{
  "nbformat": 4,
  "nbformat_minor": 0,
  "metadata": {
    "colab": {
      "name": "preprocessingML.ipynb",
      "provenance": [],
      "authorship_tag": "ABX9TyN5sqHjx6KvFthorVUpq/Vj",
      "include_colab_link": true
    },
    "kernelspec": {
      "name": "python3",
      "display_name": "Python 3"
    }
  },
  "cells": [
    {
      "cell_type": "markdown",
      "metadata": {
        "id": "view-in-github",
        "colab_type": "text"
      },
      "source": [
        "<a href=\"https://colab.research.google.com/github/k-washi/python-cookbook/blob/master/ml/1/preprocessingML.ipynb\" target=\"_parent\"><img src=\"https://colab.research.google.com/assets/colab-badge.svg\" alt=\"Open In Colab\"/></a>"
      ]
    },
    {
      "cell_type": "code",
      "metadata": {
        "id": "Ho1SJmNfEq-t",
        "colab_type": "code",
        "colab": {}
      },
      "source": [
        "import pandas as pd\n",
        "from io import StringIO\n",
        "\n",
        "csv_data = '''A, B, C, D\n",
        "              1., 2., 3., 4.\n",
        "              5., 6., , 8.\n",
        "              10., 11., 12., '''\n",
        "\n",
        "df = pd.read_csv(StringIO(csv_data))"
      ],
      "execution_count": 0,
      "outputs": []
    },
    {
      "cell_type": "code",
      "metadata": {
        "id": "hZuuPMLnFKiP",
        "colab_type": "code",
        "colab": {
          "base_uri": "https://localhost:8080/",
          "height": 85
        },
        "outputId": "917dd5c5-efa5-4571-cae4-e54e991ce874"
      },
      "source": [
        "print(df)"
      ],
      "execution_count": 4,
      "outputs": [
        {
          "output_type": "stream",
          "text": [
            "      A     B     C    D\n",
            "0   1.0   2.0    3.   4.\n",
            "1   5.0   6.0         8.\n",
            "2  10.0  11.0   12.     \n"
          ],
          "name": "stdout"
        }
      ]
    },
    {
      "cell_type": "code",
      "metadata": {
        "id": "fOSsTYn1FH3P",
        "colab_type": "code",
        "colab": {
          "base_uri": "https://localhost:8080/",
          "height": 102
        },
        "outputId": "5cc426b6-54d3-4b73-a2ef-ec772de8f422"
      },
      "source": [
        "print(df.isnull().sum())"
      ],
      "execution_count": 5,
      "outputs": [
        {
          "output_type": "stream",
          "text": [
            "A     0\n",
            " B    0\n",
            " C    0\n",
            " D    0\n",
            "dtype: int64\n"
          ],
          "name": "stdout"
        }
      ]
    }
  ]
}