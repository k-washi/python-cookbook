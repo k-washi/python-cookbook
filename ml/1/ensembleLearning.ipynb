{
  "nbformat": 4,
  "nbformat_minor": 0,
  "metadata": {
    "colab": {
      "name": "ensembleLearning.ipynb",
      "provenance": [],
      "collapsed_sections": [],
      "authorship_tag": "ABX9TyOIQPG3A3oNRMdD8egyyv6r",
      "include_colab_link": true
    },
    "kernelspec": {
      "name": "python3",
      "display_name": "Python 3"
    }
  },
  "cells": [
    {
      "cell_type": "markdown",
      "metadata": {
        "id": "view-in-github",
        "colab_type": "text"
      },
      "source": [
        "<a href=\"https://colab.research.google.com/github/k-washi/python-cookbook/blob/master/ml/1/ensembleLearning.ipynb\" target=\"_parent\"><img src=\"https://colab.research.google.com/assets/colab-badge.svg\" alt=\"Open In Colab\"/></a>"
      ]
    },
    {
      "cell_type": "code",
      "metadata": {
        "id": "bhezcYgR31Xi",
        "colab_type": "code",
        "colab": {}
      },
      "source": [
        "from scipy.special import comb\n",
        "import math\n",
        "def ensemble_error(n_classifier, error):\n",
        "  k_start = int(math.ceil(n_classifier / 2.))\n",
        "  probs = [comb(n_classifier, k) * error**k * (1 - error)**(n_classifier - k)\n",
        "            for k in range(k_start, n_classifier + 1)]\n",
        "  return sum(probs)"
      ],
      "execution_count": 0,
      "outputs": []
    },
    {
      "cell_type": "code",
      "metadata": {
        "id": "or0qCfS_6NZf",
        "colab_type": "code",
        "colab": {
          "base_uri": "https://localhost:8080/",
          "height": 34
        },
        "outputId": "e6007cc3-25e9-4684-c863-03df0b65b42a"
      },
      "source": [
        "ensemble_error(n_classifier=11, error=0.25)"
      ],
      "execution_count": 8,
      "outputs": [
        {
          "output_type": "execute_result",
          "data": {
            "text/plain": [
              "0.03432750701904297"
            ]
          },
          "metadata": {
            "tags": []
          },
          "execution_count": 8
        }
      ]
    },
    {
      "cell_type": "markdown",
      "metadata": {
        "id": "4SjRvsJ27fGC",
        "colab_type": "text"
      },
      "source": [
        "以下の図よりベースの各分類器のエラー率が小さい時、アンサンブルのエアーがベースより小さいことが分かる。"
      ]
    },
    {
      "cell_type": "code",
      "metadata": {
        "id": "mUrOGu2q6vJ6",
        "colab_type": "code",
        "colab": {
          "base_uri": "https://localhost:8080/",
          "height": 279
        },
        "outputId": "8f0fdbb4-1afd-42ab-9fcb-4ba615c89686"
      },
      "source": [
        "import numpy as np\n",
        "import matplotlib.pyplot as plt\n",
        "error_range = np.arange(0.0, 1.01, 0.01)\n",
        "ens_errors = [ensemble_error(n_classifier=11, error=error) for error in error_range]\n",
        "plt.plot(error_range, ens_errors,label='Ensemble error',linewidth=2)\n",
        "plt.plot(error_range, error_range,linestyle='--', label='Base error',linewidth=2)\n",
        "plt.xlabel('Base error')\n",
        "plt.ylabel('Base/Ensemble error')\n",
        "plt.legend(loc='upper left')\n",
        "plt.grid(alpha=0.5)\n",
        "plt.show()"
      ],
      "execution_count": 9,
      "outputs": [
        {
          "output_type": "display_data",
          "data": {
            "image/png": "[encoded data removed]",
            "text/plain": [
              "<Figure size 432x288 with 1 Axes>"
            ]
          },
          "metadata": {
            "tags": []
          }
        }
      ]
    },
    {
      "cell_type": "markdown",
      "metadata": {
        "id": "21lxdgvVCDbQ",
        "colab_type": "text"
      },
      "source": [
        "Vote"
      ]
    },
    {
      "cell_type": "code",
      "metadata": {
        "id": "YfzcjVI0CGLw",
        "colab_type": "code",
        "colab": {
          "base_uri": "https://localhost:8080/",
          "height": 34
        },
        "outputId": "f1dd876c-5a87-465f-8e9a-fa0110516c8e"
      },
      "source": [
        "import numpy as np\n",
        "np.argmax(np.bincount([0, 0, 1], weights=[0.2, 0.2, 0.6]))"
      ],
      "execution_count": 11,
      "outputs": [
        {
          "output_type": "execute_result",
          "data": {
            "text/plain": [
              "1"
            ]
          },
          "metadata": {
            "tags": []
          },
          "execution_count": 11
        }
      ]
    },
    {
      "cell_type": "code",
      "metadata": {
        "id": "WfY7nKnaCli8",
        "colab_type": "code",
        "colab": {
          "base_uri": "https://localhost:8080/",
          "height": 51
        },
        "outputId": "2182f241-009f-40f5-fbe3-f8b6a5dacb2b"
      },
      "source": [
        "ex = np.array([[0.9, 0.1],\n",
        "                [0.8, 0.2],\n",
        "                 [0.4, 0.6]])\n",
        "p = np.average(ex, axis=0, weights=[0.2, 0.2, 0.6])\n",
        "print(p)\n",
        "np.argmax(p)"
      ],
      "execution_count": 13,
      "outputs": [
        {
          "output_type": "stream",
          "text": [
            "[0.58 0.42]\n"
          ],
          "name": "stdout"
        },
        {
          "output_type": "execute_result",
          "data": {
            "text/plain": [
              "0"
            ]
          },
          "metadata": {
            "tags": []
          },
          "execution_count": 13
        }
      ]
    },
    {
      "cell_type": "code",
      "metadata": {
        "id": "YwYGCWmEC1-Y",
        "colab_type": "code",
        "colab": {}
      },
      "source": [
        "from sklearn.base import BaseEstimator\n",
        "from sklearn.base import ClassifierMixin\n",
        "from sklearn.preprocessing import LabelEncoder\n",
        "from sklearn.base import clone\n",
        "from sklearn.pipeline import _name_estimators\n",
        "import numpy as np\n",
        "import operator\n",
        "class MajorityVoteClassifier(BaseEstimator, ClassifierMixin):\n",
        "  \n",
        "    def __init__(self, classifiers,\n",
        "                 vote='classlabel', weights=None):\n",
        "        \n",
        "        self.classifiers = classifiers\n",
        "        self.named_classifiers = {key: value for key, value in _name_estimators(classifiers)}\n",
        "        self.vote = vote\n",
        "        self.weights = weights\n",
        "        \n",
        "    def fit(self, X, y):\n",
        "        if self.vote not in ('probability', 'classlabel'):\n",
        "            raise ValueError(\"vote must be 'probability'\"\n",
        "                             \"or 'classlabel'; got (vote=%r)\"\n",
        "                             % self.vote)\n",
        "        if self.weights and len(self.weights) != len(self.classifiers):\n",
        "            raise ValueError(\"Number of classifiers and weights\"\n",
        "                             \"must be equal; got %d weights,\"\n",
        "                             \"%d classifiers\"\n",
        "                             % (len(self.weights),\n",
        "                             len(self.classifiers)))\n",
        "        # Use LabelEncoder to ensure class labels start\n",
        "        # with 0, which is important for np.argmax\n",
        "        # call in self.predict\n",
        "        self.lablenc_ = LabelEncoder()\n",
        "        self.lablenc_.fit(y)\n",
        "        self.classes_ = self.lablenc_.classes_\n",
        "        self.classifiers_ = []\n",
        "        for clf in self.classifiers:\n",
        "            fitted_clf = clone(clf).fit(X, self.lablenc_.transform(y))\n",
        "            self.classifiers_.append(fitted_clf)\n",
        "        return self\n",
        "\n",
        "    def predict(self, X):\n",
        "        if self.vote == 'probability':\n",
        "            maj_vote = np.argmax(self.predict_proba(X), axis=1)\n",
        "        else: # 'classlabel' vote\n",
        "            \n",
        "            # Collect results from clf.predict calls\n",
        "            predictions = np.asarray([clf.predict(X) for clf in self.classifiers_]).T\n",
        "            \n",
        "            maj_vote = np.apply_along_axis(lambda x: np.argmax(\n",
        "                                           np.bincount(x,\n",
        "                                           weights=self.weights)),\n",
        "                                           axis=1,\n",
        "                                           arr=predictions)\n",
        "        maj_vote = self.lablenc_.inverse_transform(maj_vote)\n",
        "        return maj_vote\n",
        "    \n",
        "    def predict_proba(self, X):\n",
        "        probas = np.asarray([clf.predict_proba(X)\n",
        "                             for clf in self.classifiers_])\n",
        "        avg_proba = np.average(probas, axis=0,\n",
        "                               weights=self.weights)\n",
        "        return avg_proba\n",
        "    \n",
        "    def get_params(self, deep=True):\n",
        "        if not deep:\n",
        "            return super(MajorityVoteClassifier, \n",
        "                           self).get_params(deep=False)\n",
        "        else:\n",
        "            out = self.named_classifiers.copy()\n",
        "            for name, step in self.named_classifiers.items():\n",
        "                for key, value in step.get_params(\n",
        "                        deep=True).items():\n",
        "                    out['%s__%s' % (name, key)] = value\n",
        "            return out"
      ],
      "execution_count": 0,
      "outputs": []
    },
    {
      "cell_type": "code",
      "metadata": {
        "id": "9fXFg5F8EDMs",
        "colab_type": "code",
        "colab": {}
      },
      "source": [
        "from sklearn import datasets\n",
        "from sklearn.model_selection import train_test_split\n",
        "from sklearn.preprocessing import StandardScaler\n",
        "from sklearn.preprocessing import LabelEncoder\n",
        "iris = datasets.load_iris()\n",
        "X, y = iris.data[50:, [1, 2]], iris.target[50:]\n",
        "le = LabelEncoder()\n",
        "y = le.fit_transform(y)"
      ],
      "execution_count": 0,
      "outputs": []
    },
    {
      "cell_type": "code",
      "metadata": {
        "id": "VE5PpLJjEIIq",
        "colab_type": "code",
        "colab": {}
      },
      "source": [
        "X_train, X_test, y_train, y_test =train_test_split(X, y,test_size=0.5, \n",
        "                                                   random_state=1,stratify=y)"
      ],
      "execution_count": 0,
      "outputs": []
    },
    {
      "cell_type": "code",
      "metadata": {
        "id": "-ZnMzR8gEOny",
        "colab_type": "code",
        "colab": {
          "base_uri": "https://localhost:8080/",
          "height": 102
        },
        "outputId": "4a649edc-b539-44b5-8092-509a5b10345e"
      },
      "source": [
        "from sklearn.model_selection import cross_val_score\n",
        "from sklearn.linear_model import LogisticRegression\n",
        "from sklearn.tree import DecisionTreeClassifier\n",
        "from sklearn.neighbors import KNeighborsClassifier\n",
        "from sklearn.pipeline import Pipeline\n",
        "import numpy as np\n",
        "clf1 = LogisticRegression(penalty='l2',C=0.001,solver='lbfgs',random_state=1)\n",
        "clf2 = DecisionTreeClassifier(max_depth=1,criterion='entropy',random_state=0)\n",
        "clf3 = KNeighborsClassifier(n_neighbors=1,p=2, metric='minkowski')\n",
        "pipe1 = Pipeline([['sc', StandardScaler()],['clf', clf1]])\n",
        "pipe3 = Pipeline([['sc', StandardScaler()],['clf', clf3]])\n",
        "clf_labels = ['Logistic regression', 'Decision tree', 'KNN']\n",
        "print('10-fold cross validation:\\n')\n",
        "for clf, label in zip([pipe1, clf2, pipe3], clf_labels):\n",
        "  scores = cross_val_score(estimator=clf,X=X_train,y=y_train,cv=10,scoring='roc_auc')\n",
        "  print(\"ROC AUC: %0.2f (+/- %0.2f) [%s]\"\n",
        "         % (scores.mean(), scores.std(), label))"
      ],
      "execution_count": 18,
      "outputs": [
        {
          "output_type": "stream",
          "text": [
            "10-fold cross validation:\n",
            "\n",
            "ROC AUC: 0.92 (+/- 0.15) [Logistic regression]\n",
            "ROC AUC: 0.87 (+/- 0.18) [Decision tree]\n",
            "ROC AUC: 0.85 (+/- 0.13) [KNN]\n"
          ],
          "name": "stdout"
        }
      ]
    },
    {
      "cell_type": "code",
      "metadata": {
        "id": "HHG0qeqnEyvX",
        "colab_type": "code",
        "colab": {
          "base_uri": "https://localhost:8080/",
          "height": 85
        },
        "outputId": "5c42b31d-3132-4947-8492-9a66e88e3a7a"
      },
      "source": [
        "mv_clf = MajorityVoteClassifier(classifiers=[pipe1, clf2, pipe3])\n",
        "clf_labels += ['Majority voting']\n",
        "all_clf = [pipe1, clf2, pipe3, mv_clf]\n",
        "for clf, label in zip(all_clf, clf_labels):\n",
        "  scores = cross_val_score(estimator=clf,X=X_train,y=y_train,cv=10,scoring='roc_auc')\n",
        "  print(\"ROC AUC: %0.2f (+/- %0.2f) [%s]\" % (scores.mean(), scores.std(), label))"
      ],
      "execution_count": 23,
      "outputs": [
        {
          "output_type": "stream",
          "text": [
            "ROC AUC: 0.92 (+/- 0.15) [Logistic regression]\n",
            "ROC AUC: 0.87 (+/- 0.18) [Decision tree]\n",
            "ROC AUC: 0.85 (+/- 0.13) [KNN]\n",
            "ROC AUC: 0.98 (+/- 0.05) [Majority voting]\n"
          ],
          "name": "stdout"
        }
      ]
    },
    {
      "cell_type": "markdown",
      "metadata": {
        "id": "QWWiFVN-ItRV",
        "colab_type": "text"
      },
      "source": [
        "# バンキング"
      ]
    },
    {
      "cell_type": "code",
      "metadata": {
        "id": "Zdr5bPPxIwXH",
        "colab_type": "code",
        "colab": {
          "base_uri": "https://localhost:8080/",
          "height": 85
        },
        "outputId": "c5ff11dc-07df-4b04-e899-f306b1fcff53"
      },
      "source": [
        "import pandas as pd\n",
        "df_wine = pd.read_csv('https://archive.ics.uci.edu/ml/machine-learning-databases/wine/wine.data',\n",
        "              header=None)\n",
        "df_wine.columns = ['Class label', 'Alcohol',\n",
        "                  'Malic acid', 'Ash',\n",
        "                   'Alcalinity of ash',\n",
        "                   'Magnesium', 'Total phenols',\n",
        "                   'Flavanoids', 'Nonflavanoid phenols',\n",
        "                   'Proanthocyanins',\n",
        "                    'Color intensity', 'Hue',\n",
        "                   'OD280/OD315 of diluted wines',\n",
        "                  'Proline']\n",
        "# drop 1 class\n",
        "df_wine = df_wine[df_wine['Class label'] != 1]\n",
        "y = df_wine['Class label'].values\n",
        "X = df_wine[['Alcohol', 'OD280/OD315 of diluted wines']].values"
      ],
      "execution_count": 27,
      "outputs": [
        {
          "output_type": "stream",
          "text": [
            "[2 2 2 2 2 2 2 2 2 2 2 2 2 2 2 2 2 2 2 2 2 2 2 2 2 2 2 2 2 2 2 2 2 2 2 2 2\n",
            " 2 2 2 2 2 2 2 2 2 2 2 2 2 2 2 2 2 2 2 2 2 2 2 2 2 2 2 2 2 2 2 2 2 2 3 3 3\n",
            " 3 3 3 3 3 3 3 3 3 3 3 3 3 3 3 3 3 3 3 3 3 3 3 3 3 3 3 3 3 3 3 3 3 3 3 3 3\n",
            " 3 3 3 3 3 3 3 3]\n"
          ],
          "name": "stdout"
        }
      ]
    },
    {
      "cell_type": "code",
      "metadata": {
        "id": "qXm_I1rxJLH1",
        "colab_type": "code",
        "colab": {}
      },
      "source": [
        "from sklearn.preprocessing import LabelEncoder\n",
        "from sklearn.model_selection import train_test_split\n",
        "le = LabelEncoder()\n",
        "y = le.fit_transform(y)\n",
        "X_train, X_test, y_train, y_test = train_test_split(X, y, test_size=0.2, random_state=1, stratify=y)"
      ],
      "execution_count": 0,
      "outputs": []
    },
    {
      "cell_type": "code",
      "metadata": {
        "id": "65uayRw5JWZz",
        "colab_type": "code",
        "colab": {}
      },
      "source": [
        "from sklearn.ensemble import BaggingClassifier\n",
        "tree = DecisionTreeClassifier(criterion='entropy',random_state=1, max_depth=None)\n",
        "bag = BaggingClassifier(base_estimator=tree,n_estimators=500,max_samples=1.0,max_features=1.0,\n",
        "                        bootstrap=True, bootstrap_features=False, n_jobs=1, random_state=1)"
      ],
      "execution_count": 0,
      "outputs": []
    },
    {
      "cell_type": "code",
      "metadata": {
        "id": "mrxQnZeiKQ1s",
        "colab_type": "code",
        "colab": {}
      },
      "source": [
        "from sklearn.metrics import accuracy_score"
      ],
      "execution_count": 0,
      "outputs": []
    },
    {
      "cell_type": "code",
      "metadata": {
        "id": "3BXBr3NDKTJl",
        "colab_type": "code",
        "colab": {
          "base_uri": "https://localhost:8080/",
          "height": 34
        },
        "outputId": "1a377c41-0fa4-4f05-dd64-d41a91651cba"
      },
      "source": [
        "bag = bag.fit(X_train, y_train)\n",
        "y_train_pred = bag.predict(X_train)\n",
        "y_test_pred = bag.predict(X_test)\n",
        "bag_train = accuracy_score(y_train, y_train_pred)\n",
        "bag_test = accuracy_score(y_test, y_test_pred)\n",
        "print('Bagging train/test accuracies %.3f/%.3f' % (bag_train, bag_test))"
      ],
      "execution_count": 34,
      "outputs": [
        {
          "output_type": "stream",
          "text": [
            "Bagging train/test accuracies 1.000/0.917\n"
          ],
          "name": "stdout"
        }
      ]
    }
  ]
}