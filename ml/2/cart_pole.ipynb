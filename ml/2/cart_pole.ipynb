{
  "nbformat": 4,
  "nbformat_minor": 0,
  "metadata": {
    "colab": {
      "name": "cart-pole.ipynb",
      "provenance": [],
      "collapsed_sections": [],
      "authorship_tag": "ABX9TyNWI4TRygBfm7IyE7nNfrc4",
      "include_colab_link": true
    },
    "kernelspec": {
      "name": "python3",
      "display_name": "Python 3"
    },
    "accelerator": "GPU"
  },
  "cells": [
    {
      "cell_type": "markdown",
      "metadata": {
        "id": "view-in-github",
        "colab_type": "text"
      },
      "source": [
        "<a href=\"https://colab.research.google.com/github/k-washi/python-cookbook/blob/master/ml/2/cart_pole.ipynb\" target=\"_parent\"><img src=\"https://colab.research.google.com/assets/colab-badge.svg\" alt=\"Open In Colab\"/></a>"
      ]
    },
    {
      "cell_type": "markdown",
      "metadata": {
        "id": "Bg5-eXL1l7j4",
        "colab_type": "text"
      },
      "source": [
        "## モデルフリー\n",
        "\n",
        "エージェントは現在の観測結果を取得し、何らかの計算を行い、その結果、実行すべきアクションを取得できる。\n",
        "複雑な環境におけるモデル構築が容易。\n",
        "\n",
        "## モデルベース\n",
        "\n",
        "次の観測および報酬を予測することで、エージェントは最善のアクションを選択しようとする。\n",
        "ボードゲームなどの決定論的な環境\n",
        "\n",
        "---------\n",
        "\n",
        "## ポリシーベース\n",
        "\n",
        "エージェントのポリシー(アクションの確率分布)を直接近似\n",
        "\n",
        "## 値ベース\n",
        "\n",
        "ポリシーを考えうるすべてのアクションに関して計算\n",
        "\n",
        "---\n",
        "\n",
        "## \n",
        "\n"
      ]
    },
    {
      "cell_type": "code",
      "metadata": {
        "id": "GqymP9Fhp0Zh",
        "colab_type": "code",
        "colab": {
          "base_uri": "https://localhost:8080/",
          "height": 102
        },
        "outputId": "79fc4eb9-8724-431e-c9a5-0bf9dbbbf06a"
      },
      "source": [
        "!pip install tensorboardX==1.9"
      ],
      "execution_count": 1,
      "outputs": [
        {
          "output_type": "stream",
          "text": [
            "Requirement already satisfied: tensorboardX==1.9 in /usr/local/lib/python3.6/dist-packages (1.9)\n",
            "Requirement already satisfied: six in /usr/local/lib/python3.6/dist-packages (from tensorboardX==1.9) (1.12.0)\n",
            "Requirement already satisfied: protobuf>=3.8.0 in /usr/local/lib/python3.6/dist-packages (from tensorboardX==1.9) (3.10.0)\n",
            "Requirement already satisfied: numpy in /usr/local/lib/python3.6/dist-packages (from tensorboardX==1.9) (1.17.5)\n",
            "Requirement already satisfied: setuptools in /usr/local/lib/python3.6/dist-packages (from protobuf>=3.8.0->tensorboardX==1.9) (45.1.0)\n"
          ],
          "name": "stdout"
        }
      ]
    },
    {
      "cell_type": "code",
      "metadata": {
        "id": "DpCZ1MeUkhX4",
        "colab_type": "code",
        "colab": {}
      },
      "source": [
        "import gym\n",
        "from collections import namedtuple\n",
        "import numpy as np\n",
        "from tensorboardX import SummaryWriter\n",
        "\n",
        "import torch\n",
        "import torch.nn as nn\n",
        "import torch.optim as optim\n",
        "\n",
        "\n",
        "HIDDEN_SIZE = 128\n",
        "BATCH_SIZE = 16\n",
        "PERCENTILE = 70"
      ],
      "execution_count": 0,
      "outputs": []
    },
    {
      "cell_type": "code",
      "metadata": {
        "id": "QmrV5_-AjD1n",
        "colab_type": "code",
        "colab": {}
      },
      "source": [
        "class Net(nn.Module):\n",
        "    def __init__(self, obs_size, hidden_size, n_actions):\n",
        "        super(Net, self).__init__()\n",
        "        self.net = nn.Sequential(\n",
        "            nn.Linear(obs_size, hidden_size),\n",
        "            nn.ReLU(),\n",
        "            nn.Linear(hidden_size, n_actions)\n",
        "        )\n",
        "    def forward(self, x):\n",
        "        return self.net(x)"
      ],
      "execution_count": 0,
      "outputs": []
    },
    {
      "cell_type": "code",
      "metadata": {
        "id": "436fQOrjqHvp",
        "colab_type": "code",
        "colab": {
          "base_uri": "https://localhost:8080/",
          "height": 51
        },
        "outputId": "e8c1e02c-f98a-4c81-a86a-a8e41ce56a3d"
      },
      "source": [
        "Episode = namedtuple('Episode', field_names=['reward', 'steps'])\n",
        "EpisodeStep = namedtuple('EpisodeStep', field_names=['observation', 'action'])\n",
        "print(Episode)\n",
        "print(EpisodeStep)"
      ],
      "execution_count": 4,
      "outputs": [
        {
          "output_type": "stream",
          "text": [
            "<class '__main__.Episode'>\n",
            "<class '__main__.EpisodeStep'>\n"
          ],
          "name": "stdout"
        }
      ]
    },
    {
      "cell_type": "code",
      "metadata": {
        "id": "O5dTT0-pqU7Z",
        "colab_type": "code",
        "colab": {}
      },
      "source": [
        "def iterate_batches(env, net, batch_size):\n",
        "    batch = []\n",
        "    episode_reward = 0.0\n",
        "    episode_steps = []\n",
        "    obs = env.reset()\n",
        "    sm = nn.Softmax(dim=1)\n",
        "    while True:\n",
        "        obs_v = torch.FloatTensor([obs])\n",
        "        act_probs_v = sm(net(obs_v))\n",
        "        act_probs = act_probs_v.data.numpy()[0]\n",
        "        action = np.random.choice(len(act_probs), p=act_probs)\n",
        "        next_obs, reward, is_done, _ = env.step(action)\n",
        "        episode_reward += reward\n",
        "        step = EpisodeStep(observation=obs, action=action)\n",
        "        episode_steps.append(step)\n",
        "        if is_done:\n",
        "            e = Episode(reward=episode_reward, steps=episode_steps)\n",
        "            batch.append(e)\n",
        "            episode_reward = 0.0\n",
        "            episode_steps = []\n",
        "            next_obs = env.reset()\n",
        "            if len(batch) == batch_size:\n",
        "                yield batch\n",
        "                batch = []\n",
        "        obs = next_obs"
      ],
      "execution_count": 0,
      "outputs": []
    },
    {
      "cell_type": "code",
      "metadata": {
        "id": "Ig2gfwd5qV3p",
        "colab_type": "code",
        "colab": {}
      },
      "source": [
        "def filter_batch(batch, percentile):\n",
        "    rewards = list(map(lambda s: s.reward, batch))\n",
        "    reward_bound = np.percentile(rewards, percentile)\n",
        "    reward_mean = float(np.mean(rewards))\n",
        "\n",
        "    train_obs = []\n",
        "    train_act = []\n",
        "    for reward, steps in batch:\n",
        "        if reward < reward_bound:\n",
        "            continue\n",
        "        train_obs.extend(map(lambda step: step.observation, steps))\n",
        "        train_act.extend(map(lambda step: step.action, steps))\n",
        "\n",
        "    train_obs_v = torch.FloatTensor(train_obs)\n",
        "    train_act_v = torch.LongTensor(train_act)\n",
        "    return train_obs_v, train_act_v, reward_bound, reward_mean"
      ],
      "execution_count": 0,
      "outputs": []
    },
    {
      "cell_type": "code",
      "metadata": {
        "id": "92YnIVb-ua5x",
        "colab_type": "code",
        "colab": {
          "base_uri": "https://localhost:8080/",
          "height": 51
        },
        "outputId": "46d964a7-ded4-4bbe-dd0d-d1a016e160f0"
      },
      "source": [
        "env = gym.make(\"CartPole-v0\")\n",
        "    \n",
        "obs_size = env.observation_space.shape[0]\n",
        "n_actions = env.action_space.n\n",
        "net = Net(obs_size, HIDDEN_SIZE, n_actions)\n",
        "objective = nn.CrossEntropyLoss()\n",
        "optimizer = optim.Adam(params=net.parameters(), lr=0.01)\n",
        "writer = SummaryWriter(comment=\"-cartpole\")"
      ],
      "execution_count": 7,
      "outputs": [
        {
          "output_type": "stream",
          "text": [
            "/usr/local/lib/python3.6/dist-packages/gym/logger.py:30: UserWarning: \u001b[33mWARN: Box bound precision lowered by casting to float32\u001b[0m\n",
            "  warnings.warn(colorize('%s: %s'%('WARN', msg % args), 'yellow'))\n"
          ],
          "name": "stderr"
        }
      ]
    },
    {
      "cell_type": "code",
      "metadata": {
        "id": "uvOOMxWTug-G",
        "colab_type": "code",
        "colab": {
          "base_uri": "https://localhost:8080/",
          "height": 714
        },
        "outputId": "5d0abd9e-6a9d-4307-e532-a4a7fa5e29c8"
      },
      "source": [
        "for iter_no, batch in enumerate(iterate_batches(env, net,BATCH_SIZE)):\n",
        "        obs_v, acts_v, reward_b, reward_m = filter_batch(batch, PERCENTILE)\n",
        "        optimizer.zero_grad()\n",
        "        action_scores_v = net(obs_v)\n",
        "        loss_v = objective(action_scores_v, acts_v)\n",
        "        loss_v.backward()\n",
        "        optimizer.step()\n",
        "        print(\"%d: loss=%.3f, reward_mean=%.1f, rw_bound=%.1f\" % (\n",
        "            iter_no, loss_v.item(), reward_m, reward_b))\n",
        "        writer.add_scalar(\"loss\", loss_v.item(), iter_no)\n",
        "        writer.add_scalar(\"reward_bound\", reward_b, iter_no)\n",
        "        writer.add_scalar(\"reward_mean\", reward_m, iter_no)\n",
        "        if reward_m > 199:\n",
        "            print(\"Solved!\")\n",
        "            break\n",
        "writer.close()"
      ],
      "execution_count": 9,
      "outputs": [
        {
          "output_type": "stream",
          "text": [
            "0: loss=0.685, reward_mean=20.0, rw_bound=21.0\n",
            "1: loss=0.666, reward_mean=31.4, rw_bound=33.0\n",
            "2: loss=0.665, reward_mean=29.2, rw_bound=34.5\n",
            "3: loss=0.635, reward_mean=37.3, rw_bound=39.5\n",
            "4: loss=0.635, reward_mean=38.5, rw_bound=47.5\n",
            "5: loss=0.616, reward_mean=39.7, rw_bound=42.0\n",
            "6: loss=0.622, reward_mean=46.2, rw_bound=53.0\n",
            "7: loss=0.614, reward_mean=53.8, rw_bound=60.5\n",
            "8: loss=0.611, reward_mean=52.1, rw_bound=62.0\n",
            "9: loss=0.601, reward_mean=56.1, rw_bound=59.5\n",
            "10: loss=0.597, reward_mean=58.2, rw_bound=61.0\n",
            "11: loss=0.575, reward_mean=53.5, rw_bound=69.5\n",
            "12: loss=0.586, reward_mean=69.2, rw_bound=73.5\n",
            "13: loss=0.570, reward_mean=53.4, rw_bound=60.5\n",
            "14: loss=0.563, reward_mean=60.4, rw_bound=67.0\n",
            "15: loss=0.555, reward_mean=64.0, rw_bound=64.0\n",
            "16: loss=0.584, reward_mean=60.1, rw_bound=55.5\n",
            "17: loss=0.564, reward_mean=63.5, rw_bound=72.5\n",
            "18: loss=0.562, reward_mean=56.1, rw_bound=64.0\n",
            "19: loss=0.550, reward_mean=74.0, rw_bound=82.0\n",
            "20: loss=0.542, reward_mean=75.8, rw_bound=86.0\n",
            "21: loss=0.573, reward_mean=71.7, rw_bound=84.0\n",
            "22: loss=0.525, reward_mean=76.7, rw_bound=88.0\n",
            "23: loss=0.561, reward_mean=81.9, rw_bound=98.5\n",
            "24: loss=0.543, reward_mean=76.6, rw_bound=83.0\n",
            "25: loss=0.540, reward_mean=83.2, rw_bound=92.0\n",
            "26: loss=0.556, reward_mean=87.8, rw_bound=100.0\n",
            "27: loss=0.527, reward_mean=97.8, rw_bound=122.5\n",
            "28: loss=0.549, reward_mean=103.4, rw_bound=131.5\n",
            "29: loss=0.529, reward_mean=121.7, rw_bound=139.5\n",
            "30: loss=0.527, reward_mean=101.6, rw_bound=115.0\n",
            "31: loss=0.544, reward_mean=121.1, rw_bound=128.5\n",
            "32: loss=0.509, reward_mean=126.8, rw_bound=137.0\n",
            "33: loss=0.546, reward_mean=167.1, rw_bound=200.0\n",
            "34: loss=0.535, reward_mean=166.4, rw_bound=200.0\n",
            "35: loss=0.525, reward_mean=168.8, rw_bound=200.0\n",
            "36: loss=0.529, reward_mean=177.8, rw_bound=200.0\n",
            "37: loss=0.540, reward_mean=183.7, rw_bound=200.0\n",
            "38: loss=0.538, reward_mean=190.4, rw_bound=200.0\n",
            "39: loss=0.543, reward_mean=200.0, rw_bound=200.0\n",
            "Solved!\n"
          ],
          "name": "stdout"
        }
      ]
    }
  ]
}