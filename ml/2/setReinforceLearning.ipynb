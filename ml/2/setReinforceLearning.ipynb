{
  "nbformat": 4,
  "nbformat_minor": 0,
  "metadata": {
    "colab": {
      "name": "setReinforceLearning.ipynb",
      "provenance": [],
      "collapsed_sections": [],
      "mount_file_id": "1MhvBjNaxfYSSsm9drU9H9h2ODFmVkV4M",
      "authorship_tag": "ABX9TyN70OAmZ/Q9+5+WpkHH1cqw",
      "include_colab_link": true
    },
    "kernelspec": {
      "name": "python3",
      "display_name": "Python 3"
    },
    "accelerator": "GPU"
  },
  "cells": [
    {
      "cell_type": "markdown",
      "metadata": {
        "id": "view-in-github",
        "colab_type": "text"
      },
      "source": [
        "<a href=\"https://colab.research.google.com/github/k-washi/python-cookbook/blob/master/ml/2/setReinforceLearning.ipynb\" target=\"_parent\"><img src=\"https://colab.research.google.com/assets/colab-badge.svg\" alt=\"Open In Colab\"/></a>"
      ]
    },
    {
      "cell_type": "code",
      "metadata": {
        "id": "UQ3Dteile3E0",
        "colab_type": "code",
        "colab": {}
      },
      "source": [
        "!apt-get update > /dev/null 2>&1\n",
        "!apt-get install cmake > /dev/null 2>&1\n",
        "!pip install --upgrade setuptools 2>&1\n",
        "!pip install ez_setup > /dev/null 2>&1"
      ],
      "execution_count": 0,
      "outputs": []
    },
    {
      "cell_type": "code",
      "metadata": {
        "id": "R_G_pX1YaMYB",
        "colab_type": "code",
        "colab": {}
      },
      "source": [
        "#remove \" > /dev/null 2>&1\" to see what is going on under the hood\n",
        "!pip install gym pyvirtualdisplay > /dev/null 2>&1\n",
        "!apt-get install -y xvfb python-opengl ffmpeg > /dev/null 2>&1"
      ],
      "execution_count": 0,
      "outputs": []
    },
    {
      "cell_type": "code",
      "metadata": {
        "id": "kOj13nGJb0Y2",
        "colab_type": "code",
        "colab": {}
      },
      "source": [
        "!pip uninstall tensorflow"
      ],
      "execution_count": 0,
      "outputs": []
    },
    {
      "cell_type": "code",
      "metadata": {
        "id": "V4bYzgmdb18Q",
        "colab_type": "code",
        "colab": {}
      },
      "source": [
        "!pip install tensorflow==2.0.0 tensorboard==2.0.1 tensorboardX==1.9"
      ],
      "execution_count": 0,
      "outputs": []
    },
    {
      "cell_type": "code",
      "metadata": {
        "id": "PFlOO0gU_t2f",
        "colab_type": "code",
        "colab": {}
      },
      "source": [
        "!pip install opencv-python==4.1.1.* pytorch-ignite==0.2.1 ptan==0.6 > /dev/null 2>&1"
      ],
      "execution_count": 0,
      "outputs": []
    },
    {
      "cell_type": "code",
      "metadata": {
        "id": "h9XGLWYoarWp",
        "colab_type": "code",
        "colab": {}
      },
      "source": [
        "import gym\n",
        "from gym import logger as gymlogger\n",
        "from gym.wrappers import Monitor\n",
        "gymlogger.set_level(40) #error only\n",
        "import tensorflow as tf\n",
        "import numpy as np\n",
        "import random\n",
        "import matplotlib\n",
        "import matplotlib.pyplot as plt\n",
        "%matplotlib inline\n",
        "import math\n",
        "import glob\n",
        "import io\n",
        "import base64\n",
        "from IPython.display import HTML\n",
        "\n",
        "from IPython import display as ipythondisplay"
      ],
      "execution_count": 0,
      "outputs": []
    },
    {
      "cell_type": "code",
      "metadata": {
        "id": "d8ZCxQIEa9Mm",
        "colab_type": "code",
        "colab": {
          "base_uri": "https://localhost:8080/",
          "height": 34
        },
        "outputId": "f4fbd468-efa8-4371-951b-1f429f077927"
      },
      "source": [
        "tf.__version__"
      ],
      "execution_count": 6,
      "outputs": [
        {
          "output_type": "execute_result",
          "data": {
            "text/plain": [
              "'2.0.0'"
            ]
          },
          "metadata": {
            "tags": []
          },
          "execution_count": 6
        }
      ]
    },
    {
      "cell_type": "code",
      "metadata": {
        "id": "_GU_EnmyasAN",
        "colab_type": "code",
        "colab": {
          "base_uri": "https://localhost:8080/",
          "height": 71
        },
        "outputId": "3c3be7c1-cc32-4e3e-d2d5-ad60d7de3e01"
      },
      "source": [
        "from pyvirtualdisplay import Display\n",
        "display = Display(visible=0, size=(1400, 900))\n",
        "display.start()"
      ],
      "execution_count": 7,
      "outputs": [
        {
          "output_type": "stream",
          "text": [
            "xdpyinfo was not found, X start can not be checked! Please install xdpyinfo!\n"
          ],
          "name": "stderr"
        },
        {
          "output_type": "execute_result",
          "data": {
            "text/plain": [
              "<Display cmd_param=['Xvfb', '-br', '-nolisten', 'tcp', '-screen', '0', '1400x900x24', ':1001'] cmd=['Xvfb', '-br', '-nolisten', 'tcp', '-screen', '0', '1400x900x24', ':1001'] oserror=None return_code=None stdout=\"None\" stderr=\"None\" timeout_happened=False>"
            ]
          },
          "metadata": {
            "tags": []
          },
          "execution_count": 7
        }
      ]
    },
    {
      "cell_type": "code",
      "metadata": {
        "id": "5QLyISHjcudS",
        "colab_type": "code",
        "colab": {}
      },
      "source": [
        "def show_video():\n",
        "  mp4list = glob.glob('video/*.mp4')\n",
        "  if len(mp4list) > 0:\n",
        "    mp4 = mp4list[0]\n",
        "    video = io.open(mp4, 'r+b').read()\n",
        "    encoded = base64.b64encode(video)\n",
        "    ipythondisplay.display(HTML(data='''<video alt=\"test\" autoplay \n",
        "                loop controls style=\"height: 400px;\">\n",
        "                <source src=\"data:video/mp4;base64,{0}\" type=\"video/mp4\" />\n",
        "             </video>'''.format(encoded.decode('ascii'))))\n",
        "  else: \n",
        "    print(\"Could not find video\")\n",
        "    \n",
        "\n",
        "def wrap_env(env):\n",
        "  env = Monitor(env, './video', force=True)\n",
        "  return env"
      ],
      "execution_count": 0,
      "outputs": []
    },
    {
      "cell_type": "code",
      "metadata": {
        "id": "uvZxE3locweY",
        "colab_type": "code",
        "colab": {
          "base_uri": "https://localhost:8080/",
          "height": 438
        },
        "outputId": "16f5f5af-1334-4ed7-a309-ac67eae69783"
      },
      "source": [
        "env = wrap_env(gym.make(\"MsPacman-v0\"))\n",
        "print(env.action_space)\n",
        "observation = env.reset()\n",
        "\n",
        "while True:\n",
        "  \n",
        "    env.render()\n",
        "    \n",
        "    #your agent goes here\n",
        "    action = env.action_space.sample() \n",
        "         \n",
        "    observation, reward, done, info = env.step(action) \n",
        "   \n",
        "        \n",
        "    if done: \n",
        "      break;\n",
        "            \n",
        "env.close()\n",
        "show_video()"
      ],
      "execution_count": 9,
      "outputs": [
        {
          "output_type": "stream",
          "text": [
            "Discrete(9)\n"
          ],
          "name": "stdout"
        },
        {
          "output_type": "display_data",
          "data": {
            "text/html": [
              "<video alt=\"test\" autoplay \n",
              "                loop controls style=\"height: 400px;\">\n",
              "                <source src=\"data:video/mp4;base64,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\" type=\"video/mp4\" />\n",
              "             </video>"
            ],
            "text/plain": [
              "<IPython.core.display.HTML object>"
            ]
          },
          "metadata": {
            "tags": []
          }
        }
      ]
    },
    {
      "cell_type": "code",
      "metadata": {
        "id": "T2hgPXhGBhQa",
        "colab_type": "code",
        "colab": {
          "base_uri": "https://localhost:8080/",
          "height": 85
        },
        "outputId": "327d6f4c-9b4f-45f8-9266-a051edae6b8f"
      },
      "source": [
        "import gym\n",
        "e = gym.make('CartPole-v0')\n",
        "obs = e.reset()\n",
        "print(obs) #x座標, 速度、地面に対する角度, 角速度\n",
        "print(e.action_space) #右, 左\n",
        "print(e.observation_space) \n",
        "print(e.step(0)) #(array([ 0.01626853, -0.19341435,  0.01088144,  0.29260441]), 1.0, False, {}) 新しい観測値, 報酬, done, 環境に関する追加状況"
      ],
      "execution_count": 10,
      "outputs": [
        {
          "output_type": "stream",
          "text": [
            "[-0.0067769   0.04100648 -0.04401741 -0.03822681]\n",
            "Discrete(2)\n",
            "Box(4,)\n",
            "(array([-0.00595677, -0.15345752, -0.04478194,  0.24024972]), 1.0, False, {})\n"
          ],
          "name": "stdout"
        }
      ]
    },
    {
      "cell_type": "code",
      "metadata": {
        "id": "D7xRsfAhCsJL",
        "colab_type": "code",
        "colab": {
          "base_uri": "https://localhost:8080/",
          "height": 85
        },
        "outputId": "9e74e0e8-c62d-4252-e93a-4714d52911c2"
      },
      "source": [
        "#ランダムなアクション、観測の取得\n",
        "print(e.action_space.sample())\n",
        "print(e.observation_space.sample())\n",
        "\n",
        "print(e.action_space.sample())\n",
        "print(e.observation_space.sample())"
      ],
      "execution_count": 11,
      "outputs": [
        {
          "output_type": "stream",
          "text": [
            "1\n",
            "[-1.9842020e+00 -1.9095165e+38 -2.6278061e-01  2.3543422e+38]\n",
            "0\n",
            "[2.3568459e+00 1.5177587e+38 8.1440017e-02 2.4716929e+38]\n"
          ],
          "name": "stdout"
        }
      ]
    },
    {
      "cell_type": "markdown",
      "metadata": {
        "id": "gjTrVIfoDoVh",
        "colab_type": "text"
      },
      "source": [
        "上記の関数を流用した利用方法"
      ]
    },
    {
      "cell_type": "code",
      "metadata": {
        "id": "IPdil3A6DXBC",
        "colab_type": "code",
        "colab": {}
      },
      "source": [
        "env = gym.make(\"CartPole-v0\")\n",
        "total_reward = 0.0\n",
        "total_steps = 0\n"
      ],
      "execution_count": 0,
      "outputs": []
    },
    {
      "cell_type": "code",
      "metadata": {
        "id": "YLva4Z0CDric",
        "colab_type": "code",
        "colab": {
          "base_uri": "https://localhost:8080/",
          "height": 34
        },
        "outputId": "f653e4d6-fd58-4d24-d652-3ea33e4a601e"
      },
      "source": [
        "obs = env.reset()\n",
        "while True:\n",
        "  action = env.action_space.sample()\n",
        "  obs, reward, done, _ = env.step(action)\n",
        "  total_reward += reward\n",
        "  total_steps += 1\n",
        "  if done:\n",
        "    break\n",
        "\n",
        "print(total_steps, total_reward)"
      ],
      "execution_count": 13,
      "outputs": [
        {
          "output_type": "stream",
          "text": [
            "14 14.0\n"
          ],
          "name": "stdout"
        }
      ]
    },
    {
      "cell_type": "markdown",
      "metadata": {
        "id": "1GsJX5_zGEbO",
        "colab_type": "text"
      },
      "source": [
        "# ラッパー"
      ]
    },
    {
      "cell_type": "code",
      "metadata": {
        "id": "nnbFSOl3GGTV",
        "colab_type": "code",
        "colab": {}
      },
      "source": [
        "from typing import TypeVar\n",
        "import random\n",
        "Action = TypeVar('Action')\n",
        "\n",
        "class RandomActionWrapper(gym.ActionWrapper):\n",
        "  def __init__(self, env, epsilon=0.1):\n",
        "    super(RandomActionWrapper, self).__init__(env)\n",
        "    self.epsilon = epsilon\n",
        "  def action(self, action:Action) -> Action:\n",
        "    if random.random() < self.epsilon:\n",
        "      print(\"Random!!\")\n",
        "      return self.env.action_space.sample()\n",
        "    return action"
      ],
      "execution_count": 0,
      "outputs": []
    },
    {
      "cell_type": "code",
      "metadata": {
        "id": "S9bVIwIXG_Ww",
        "colab_type": "code",
        "colab": {}
      },
      "source": [
        "env = RandomActionWrapper(gym.make(\"CartPole-v0\"))"
      ],
      "execution_count": 0,
      "outputs": []
    },
    {
      "cell_type": "code",
      "metadata": {
        "id": "vVgI4i35TBaE",
        "colab_type": "code",
        "colab": {
          "base_uri": "https://localhost:8080/",
          "height": 34
        },
        "outputId": "52b29c6b-eaf8-481b-fa71-f0447a3b8a43"
      },
      "source": [
        "obs = env.reset()\n",
        "total_reward = 0.0\n",
        "while True:\n",
        "  obs, reward, done, _ = env.step(0)\n",
        "  total_reward += reward\n",
        "  if done:\n",
        "    break\n",
        "print(\"Reward got: %.2f\" % total_reward)"
      ],
      "execution_count": 16,
      "outputs": [
        {
          "output_type": "stream",
          "text": [
            "Reward got: 8.00\n"
          ],
          "name": "stdout"
        }
      ]
    },
    {
      "cell_type": "markdown",
      "metadata": {
        "id": "XTWXhD6EUVtd",
        "colab_type": "text"
      },
      "source": [
        "pytorch\n"
      ]
    },
    {
      "cell_type": "code",
      "metadata": {
        "id": "Aosvnn3FUXae",
        "colab_type": "code",
        "colab": {
          "base_uri": "https://localhost:8080/",
          "height": 68
        },
        "outputId": "027d8549-82ed-45b8-f17a-ea7ae5cc346a"
      },
      "source": [
        "import torch\n",
        "import numpy as np\n",
        "\n",
        "a = torch.FloatTensor(3,2)\n",
        "a"
      ],
      "execution_count": 18,
      "outputs": [
        {
          "output_type": "execute_result",
          "data": {
            "text/plain": [
              "tensor([[2.2262e-34, 0.0000e+00],\n",
              "        [3.7835e-44, 0.0000e+00],\n",
              "        [       nan, 0.0000e+00]])"
            ]
          },
          "metadata": {
            "tags": []
          },
          "execution_count": 18
        }
      ]
    },
    {
      "cell_type": "code",
      "metadata": {
        "id": "WCmelU6wUiPe",
        "colab_type": "code",
        "colab": {
          "base_uri": "https://localhost:8080/",
          "height": 68
        },
        "outputId": "f23402ca-c4ee-43bb-fe96-057f0f82896c"
      },
      "source": [
        "a.zero_()"
      ],
      "execution_count": 19,
      "outputs": [
        {
          "output_type": "execute_result",
          "data": {
            "text/plain": [
              "tensor([[0., 0.],\n",
              "        [0., 0.],\n",
              "        [0., 0.]])"
            ]
          },
          "metadata": {
            "tags": []
          },
          "execution_count": 19
        }
      ]
    },
    {
      "cell_type": "code",
      "metadata": {
        "id": "k6ojfYY4VFQz",
        "colab_type": "code",
        "colab": {
          "base_uri": "https://localhost:8080/",
          "height": 34
        },
        "outputId": "92ddd96d-6e2b-44d2-cdde-e39f56ac151a"
      },
      "source": [
        "#cuda\n",
        "a = torch.FloatTensor([2,3])\n",
        "ca = a.to('cuda')\n",
        "ca"
      ],
      "execution_count": 20,
      "outputs": [
        {
          "output_type": "execute_result",
          "data": {
            "text/plain": [
              "tensor([2., 3.], device='cuda:0')"
            ]
          },
          "metadata": {
            "tags": []
          },
          "execution_count": 20
        }
      ]
    },
    {
      "cell_type": "markdown",
      "metadata": {
        "id": "OZi-64Qogkfu",
        "colab_type": "text"
      },
      "source": [
        "# TensorboardX - NNの監視"
      ]
    },
    {
      "cell_type": "code",
      "metadata": {
        "id": "yvmavoe4gm-u",
        "colab_type": "code",
        "colab": {}
      },
      "source": [
        "import math\n",
        "from tensorboardX import SummaryWriter\n",
        "\n",
        "writer = SummaryWriter()\n",
        "funcs = {\"sin\": math.sin, \"cos\": math.cos, \"tan\": math.tan}\n",
        "\n",
        "for angle in range(-360, 360):\n",
        "  angle_rad = angle * math.pi / 180\n",
        "  for name, fun in funcs.items():\n",
        "    val = fun(angle_rad)\n",
        "    writer.add_scalar(name, val, angle)\n",
        "writer.close()"
      ],
      "execution_count": 0,
      "outputs": []
    },
    {
      "cell_type": "markdown",
      "metadata": {
        "id": "xmSFEJt_hrmx",
        "colab_type": "text"
      },
      "source": [
        "runs配下に結果が格納される。"
      ]
    },
    {
      "cell_type": "code",
      "metadata": {
        "id": "AZopY3hShMkX",
        "colab_type": "code",
        "colab": {
          "base_uri": "https://localhost:8080/",
          "height": 68
        },
        "outputId": "ed2cc2b3-9f9f-4ad5-b9d1-37f9d4feda7b"
      },
      "source": [
        "!tensorboard --logdir runs --bind_all"
      ],
      "execution_count": 23,
      "outputs": [
        {
          "output_type": "stream",
          "text": [
            "TensorBoard 2.0.1 at http://582693f1a089:6006/ (Press CTRL+C to quit)\n",
            "ｑ\n",
            "^C\n"
          ],
          "name": "stdout"
        }
      ]
    },
    {
      "cell_type": "code",
      "metadata": {
        "id": "iz71Mygyh1uB",
        "colab_type": "code",
        "colab": {}
      },
      "source": [
        ""
      ],
      "execution_count": 0,
      "outputs": []
    }
  ]
}